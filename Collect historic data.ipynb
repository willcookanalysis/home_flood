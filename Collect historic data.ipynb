{
 "cells": [
  {
   "cell_type": "code",
   "execution_count": null,
   "metadata": {},
   "outputs": [],
   "source": [
    "import requests\n",
    "import json\n",
    "import pandas as pd\n",
    "import datetime\n",
    "from collections import OrderedDict\n",
    "from tqdm.notebook import tqdm\n",
    "\n",
    "import matplotlib.pyplot as plt\n",
    "import seaborn as sns\n",
    "sns.set()\n",
    "\n",
    "from settings import long, lat"
   ]
  },
  {
   "cell_type": "markdown",
   "metadata": {},
   "source": [
    "Api only allows max of 10k rows per call. For 15 min time intervals there are a load of 0s for rainfall so it doesnt give much data"
   ]
  },
  {
   "cell_type": "markdown",
   "metadata": {},
   "source": [
    "# Return nearest rainfall monitoring station and set up to collect data"
   ]
  },
  {
   "cell_type": "code",
   "execution_count": null,
   "metadata": {},
   "outputs": [],
   "source": [
    "def rainfall_near_user_input(latitude,longitude,distance):\n",
    "    #returns details of the water stations near by\n",
    "    base_url = \"http://environment.data.gov.uk/flood-monitoring/id/stations\"\n",
    "    input_lat = str(latitude)\n",
    "    input_long = str(longitude)\n",
    "    distance = str(distance)\n",
    "    user_parameters = '?parameter=rainfall'+'&lat='+input_lat+'&long='+input_long+'&dist='+distance\n",
    "    station_url = base_url+user_parameters\n",
    "    get_data = requests.get(station_url)\n",
    "    get_data.raise_for_status()\n",
    "    analysis = get_data.json()\n",
    "    items1 = analysis[\"items\"]\n",
    "    url_for_station = items1[0][\"@id\"]\n",
    "    return(url_for_station)"
   ]
  },
  {
   "cell_type": "code",
   "execution_count": null,
   "metadata": {},
   "outputs": [],
   "source": [
    "dist=10\n",
    "rain_station = rainfall_near_user_input(lat,long,dist)\n",
    "#print(rain_station)"
   ]
  },
  {
   "cell_type": "code",
   "execution_count": null,
   "metadata": {},
   "outputs": [],
   "source": [
    "#calc date and determine how much data to bring back\n",
    "today = datetime.date.today()\n",
    "\n",
    "#create a list of dates adapted from this link:\n",
    "#https://www.matthealy.com.au/blog/post/find-months-between-two-dates-with-python/\n",
    "\n",
    "\n",
    "start = datetime.date(year=today.year -3, month=today.month, day=today.day)\n",
    "end = today\n",
    "\n",
    "# Get list of months >= start and < end\n",
    "months = OrderedDict(((start + datetime.timedelta(_)).strftime(\"%Y-%m-01\"),0) for _ in range((end - start).days))\n",
    "#convert dictionary to a list\n",
    "months=list(months.keys())\n",
    "print(months)"
   ]
  },
  {
   "cell_type": "code",
   "execution_count": null,
   "metadata": {},
   "outputs": [],
   "source": [
    "#create a blank list to save results\n",
    "rain_data=[]\n",
    "\n",
    "#iterate through each month in the time period to extract data\n",
    "for date in tqdm(months):\n",
    "    #start month = key from dictionary / value in the list\n",
    "    d1=datetime.datetime.strptime(date,\"%Y-%m-%d\").date()\n",
    "    #end month - month after\n",
    "    d2=datetime.date(year=d1.year + int(d1.month / 12), month=((d1.month % 12) + 1), day=1)\n",
    "    \n",
    "    rain_station_url = rain_station +\"/readings?_sorted\"+\"&startdate=\"+str(d1)+\"&enddate=\"+str(d2)+\"&_limit=10000\"\n",
    "    get_data_rain = requests.get(rain_station_url)\n",
    "    get_data_rain.raise_for_status()\n",
    "    analysis_rain = get_data_rain.json()\n",
    "    items_rain = analysis_rain[\"items\"]\n",
    "    print(\"start:\"+str(d1)+\" end:\"+str(d2))\n",
    "    for x in items_rain:\n",
    "        rain_data.append(x)"
   ]
  },
  {
   "cell_type": "code",
   "execution_count": null,
   "metadata": {},
   "outputs": [],
   "source": [
    "# create a dateframe from the data\n",
    "rain_df = pd.DataFrame(rain_data)\n",
    "rain_df['measure']=rain_df['measure'].str.rsplit('/', 1).str[1]\n",
    "rain_df['dt'] =  pd.to_datetime(rain_df['dateTime'])\n",
    "rain_df= rain_df.drop(['@id','dateTime'], axis=1)\n",
    "print(rain_df.shape)\n",
    "rain_df.head()"
   ]
  },
  {
   "cell_type": "code",
   "execution_count": null,
   "metadata": {},
   "outputs": [],
   "source": [
    "# export to csv\n",
    "rain_df.to_csv('rainfall_recent.csv')"
   ]
  },
  {
   "cell_type": "code",
   "execution_count": null,
   "metadata": {},
   "outputs": [],
   "source": []
  }
 ],
 "metadata": {
  "kernelspec": {
   "display_name": "Python 3",
   "language": "python",
   "name": "python3"
  },
  "language_info": {
   "codemirror_mode": {
    "name": "ipython",
    "version": 3
   },
   "file_extension": ".py",
   "mimetype": "text/x-python",
   "name": "python",
   "nbconvert_exporter": "python",
   "pygments_lexer": "ipython3",
   "version": "3.7.7"
  }
 },
 "nbformat": 4,
 "nbformat_minor": 4
}
