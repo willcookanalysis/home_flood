{
 "cells": [
  {
   "cell_type": "markdown",
   "metadata": {},
   "source": [
    "Use this as the source and basis for pulling this together quickly i.e. borrowed a load of the code:\n",
    "    https://github.com/geektechdude/Python_UK_Flood_Alert/blob/master/geektechstuff_flood_alert_uk.py"
   ]
  },
  {
   "cell_type": "markdown",
   "metadata": {},
   "source": [
    "Rainfall api reference from Environment agency:\n",
    "    https://environment.data.gov.uk/flood-monitoring/doc/rainfall"
   ]
  },
  {
   "cell_type": "code",
   "execution_count": null,
   "metadata": {},
   "outputs": [],
   "source": [
    "import requests\n",
    "import json\n",
    "import pandas as pd\n",
    "import matplotlib.pyplot as plt\n",
    "import seaborn as sns\n",
    "sns.set()"
   ]
  },
  {
   "cell_type": "code",
   "execution_count": null,
   "metadata": {},
   "outputs": [],
   "source": [
    "#long and latitude saved in custom file in this folder so need to import them\n",
    "from settings import long, lat"
   ]
  },
  {
   "cell_type": "code",
   "execution_count": null,
   "metadata": {},
   "outputs": [],
   "source": [
    "def flood_user_input(latitude,longitude,distance):\n",
    "    # checks flood details near by\n",
    "    atlantis =\"\"\n",
    "    input_lat = str(latitude)\n",
    "    input_long = str(longitude)\n",
    "    distance = str(distance)\n",
    "    flood_url = 'http://environment.data.gov.uk/flood-monitoring/id/floods'\n",
    "    flood_parameters = '?lat='+input_lat+'&long='+input_long+'&dist='+distance\n",
    "    flood_query = flood_url+flood_parameters\n",
    "    get_data = requests.get(flood_query)\n",
    "    get_data.raise_for_status()\n",
    "    analysis = get_data.json()\n",
    "    items = analysis[\"items\"]\n",
    "    river = items[0][\"floodArea\"][\"riverOrSea\"]\n",
    "    severity = items[0][\"severity\"]\n",
    "    # severity level 1 is severe, 2 is flood warning, 3 is flood alert and 4 is warning no longer in force\n",
    "    s_level = items[0][\"severityLevel\"]\n",
    "    message = items[0][\"message\"]\n",
    "    time_severity_changed = items[0][\"timeSeverityChanged\"]\n",
    "    if s_level >=3:\n",
    "        severity=str(severity)\n",
    "        s_level=str(s_level)\n",
    "        message=str(message)\n",
    "        time_severity_changed=str(time_severity_changed)\n",
    "        atlantis = \"\\nWARNING \\n \\n\"+river+\"\\n \\n\"+\"Severity level is at \"+s_level+\"\\n \\n\"+severity+\"\\n \\n\"+message+\"\\n \\n\"+\"Last update: \"+time_severity_changed+\"\\n\"\n",
    "    else:\n",
    "        atlantis = \"All OKAY\"\n",
    "    return(atlantis)"
   ]
  },
  {
   "cell_type": "code",
   "execution_count": null,
   "metadata": {},
   "outputs": [],
   "source": [
    "def stations_near_user_input(latitude,longitude,distance):\n",
    "    #returns details of the water stations near by\n",
    "    base_url = \"http://environment.data.gov.uk/flood-monitoring/id/stations\"\n",
    "    input_lat = str(latitude)\n",
    "    input_long = str(longitude)\n",
    "    distance = str(distance)\n",
    "    user_parameters = '?lat='+input_lat+'&long='+input_long+'&dist='+distance\n",
    "    station_url = base_url+user_parameters\n",
    "    get_data = requests.get(station_url)\n",
    "    get_data.raise_for_status()\n",
    "    analysis = get_data.json()\n",
    "    items = analysis[\"items\"]\n",
    "    url_for_station = items[0][\"@id\"]\n",
    "    RLOIid = items[0][\"RLOIid\"]\n",
    "    date_opened = items[0][\"dateOpened\"]\n",
    "    station_name = items[0][\"label\"]\n",
    "    whats_measured = items[0][\"measures\"][0][\"parameterName\"]\n",
    "    str_url_for_station = str(url_for_station)\n",
    "    str_station_name = str(station_name)\n",
    "    str_RLOIid = str(RLOIid)\n",
    "    str_dateOpened = str(date_opened)\n",
    "    str_whats_measured = str(whats_measured)\n",
    "    output_msg = \"\\n Station Name: \"+str_station_name+\"\\n Station URL: \"+str_url_for_station+\"\\n Station RLOIid: \"+str_RLOIid+\"\\n Date Station Opened: \"+str_dateOpened+\"\\n Station Measures: \"+str_whats_measured+\"\\n\"\n",
    "    return(output_msg)"
   ]
  },
  {
   "cell_type": "code",
   "execution_count": null,
   "metadata": {},
   "outputs": [],
   "source": [
    "#control parameters\n",
    "# use https://www.pgc.umn.edu/apps/convert/ for coords converter\n",
    "#tried 1 to search.. 1 picks up for flood user but not for stations. my local one appears on 2\n",
    "dist = 2"
   ]
  },
  {
   "cell_type": "code",
   "execution_count": null,
   "metadata": {},
   "outputs": [],
   "source": [
    "flood_user_input(lat,long,dist)"
   ]
  },
  {
   "cell_type": "code",
   "execution_count": null,
   "metadata": {},
   "outputs": [],
   "source": [
    "stations_near_user_input(lat,long,dist)"
   ]
  },
  {
   "cell_type": "code",
   "execution_count": null,
   "metadata": {},
   "outputs": [],
   "source": [
    "def readings_from_station_auto():\n",
    "    # Gives station details, current reading and historic high / low readings from station\n",
    "    # Replace XXXXXXX with the station @id (see url_for_station from stations_near_auto())\n",
    "    station_url = \"https://environment.data.gov.uk/flood-monitoring/id/stations/E2304.json\"\n",
    "    get_data = requests.get(station_url)\n",
    "    get_data.raise_for_status()\n",
    "    analysis = get_data.json()\n",
    "    analysis = get_data.json()\n",
    "    items = analysis[\"items\"]\n",
    "    url_for_station = items[\"@id\"]\n",
    "    str_url_for_station = str(url_for_station)\n",
    "    RLOIid = items[\"RLOIid\"]\n",
    "    str_RLOIid = str(RLOIid)\n",
    "    date_opened = items[\"dateOpened\"]\n",
    "    str_date_opened = str(date_opened)\n",
    "    station_name = items[\"label\"]\n",
    "    str_station_name = str(station_name)\n",
    "    # current measurements\n",
    "    current_measurement_date_time = items[\"measures\"][\"latestReading\"][\"dateTime\"]\n",
    "    str_current_measurement_date_time = str(current_measurement_date_time)\n",
    "    current_measurement_value = items[\"measures\"][\"latestReading\"][\"value\"]\n",
    "    str_current_measurement_value = str(current_measurement_value)\n",
    "    # historic measurements\n",
    "    max_high = items[\"stageScale\"][\"maxOnRecord\"][\"value\"]\n",
    "    str_max_high = str(max_high)\n",
    "    max_high_date = items[\"stageScale\"][\"maxOnRecord\"][\"dateTime\"]\n",
    "    str_max_high_date = str(max_high_date)\n",
    "    min_low = items[\"stageScale\"][\"minOnRecord\"][\"value\"]\n",
    "    str_min_low = str(min_low)\n",
    "    min_low_date = items[\"stageScale\"][\"minOnRecord\"][\"dateTime\"]\n",
    "    str_min_low_date = str(min_low_date)\n",
    "\n",
    "    output_msg = \"\\n Station Name: \"+str_station_name+\"\\n RLOIid: \"+str_RLOIid+\"\\n Date Opened: \"+str_date_opened+\"\\n Current Measurement: \"+str_current_measurement_value+\"\\n Measurement Taken at: \"+str_current_measurement_date_time+\"\\n Historic Hight: \"+str_max_high+\"\\n Max High Date: \"+str_max_high_date+\"\\n Min Height: \"+str_min_low+\"\\n Minimum Height Date: \"+str_min_low_date+\"\\n\"\n",
    "    return(output_msg)"
   ]
  },
  {
   "cell_type": "code",
   "execution_count": null,
   "metadata": {},
   "outputs": [],
   "source": [
    "readings_from_station_auto()"
   ]
  },
  {
   "cell_type": "code",
   "execution_count": null,
   "metadata": {},
   "outputs": [],
   "source": [
    "#return historic readings\n",
    "station_url = \"https://environment.data.gov.uk/flood-monitoring/id/stations/E2304/readings?_sorted\"+\"&_limit=10000\"\n",
    "get_data = requests.get(station_url)\n",
    "get_data.raise_for_status()\n",
    "analysis = get_data.json()\n",
    "items = analysis[\"items\"]\n"
   ]
  },
  {
   "cell_type": "code",
   "execution_count": null,
   "metadata": {},
   "outputs": [],
   "source": [
    "data = []\n",
    "for x in items:\n",
    "    data.append(x)\n",
    "df = pd.DataFrame(data)   \n",
    "df.head()"
   ]
  },
  {
   "cell_type": "code",
   "execution_count": null,
   "metadata": {},
   "outputs": [],
   "source": [
    "pd.set_option('display.max_colwidth', -1)\n",
    "df['measure']=df['measure'].str.rsplit('/', 1).str[1]\n",
    "df['dt'] =  pd.to_datetime(df['dateTime'])\n",
    "df= df.drop(['@id','dateTime'], axis=1)\n",
    "df.head()"
   ]
  },
  {
   "cell_type": "code",
   "execution_count": null,
   "metadata": {},
   "outputs": [],
   "source": [
    "sns.lineplot(data=df,x='dt',y='value',hue='measure')\n",
    "plt.xticks(rotation=15)\n",
    "plt.legend(loc='center right',bbox_to_anchor=(1.6, 0.95), ncol=1)\n",
    "plt.show()"
   ]
  },
  {
   "cell_type": "code",
   "execution_count": null,
   "metadata": {},
   "outputs": [],
   "source": [
    "#find rainfall only stations for the rainfall measure\n",
    "\n",
    "def rainfall_near_user_input(latitude,longitude,distance):\n",
    "    #returns details of the water stations near by\n",
    "    base_url = \"http://environment.data.gov.uk/flood-monitoring/id/stations\"\n",
    "    input_lat = str(latitude)\n",
    "    input_long = str(longitude)\n",
    "    distance = str(distance)\n",
    "    user_parameters = '?parameter=rainfall'+'&lat='+input_lat+'&long='+input_long+'&dist='+distance\n",
    "    station_url = base_url+user_parameters\n",
    "    get_data = requests.get(station_url)\n",
    "    get_data.raise_for_status()\n",
    "    analysis = get_data.json()\n",
    "    items1 = analysis[\"items\"]\n",
    "    url_for_station = items1[0][\"@id\"]\n",
    "    return(url_for_station)"
   ]
  },
  {
   "cell_type": "code",
   "execution_count": null,
   "metadata": {},
   "outputs": [],
   "source": [
    "dist=10\n",
    "rain_station = rainfall_near_user_input(lat,long,dist)\n",
    "print(rain_station)"
   ]
  },
  {
   "cell_type": "markdown",
   "metadata": {},
   "source": [
    " \"@id\" : \"http://environment.data.gov.uk/flood-monitoring/id/stations/E7155\" ,\n",
    "    \"easting\" : 506950 ,\n",
    "    \"gridReference\" : \"TF069064\" ,\n",
    "    \"label\" : \"Rainfall station\" ,\n",
    "    \"lat\" : 52.645246 ,\n",
    "    \"long\" : -0.420704 ,\n",
    "    \"measures\" : [ { \n",
    "      \"@id\" : \"http://environment.data.gov.uk/flood-monitoring/id/measures/E7155-rainfall-tipping_bucket_raingauge-t-15_min-mm\" ,\n",
    "      \"parameter\" : \"rainfall\" ,\n",
    "      \"parameterName\" : \"Rainfall\" ,\n",
    "      \"period\" : 900 ,\n",
    "      \"qualifier\" : \"Tipping Bucket Raingauge\" ,\n",
    "      \"unitName\" : \"mm\"\n",
    "    }\n",
    "     ] ,\n",
    "    \"northing\" : 306450 ,\n",
    "    \"notation\" : \"E7155\" ,\n",
    "    \"stationReference\" : \"E7155\""
   ]
  },
  {
   "cell_type": "code",
   "execution_count": null,
   "metadata": {},
   "outputs": [],
   "source": [
    "#return historic readings\n",
    "#10000 is max limit allowed. 500 is default\n",
    "rain_station_url = rain_station +\"/readings?_sorted\"+\"&since=2016-01-01T00:00:00Z\"+\"&_limit=10000\"\n",
    "get_data_rain = requests.get(rain_station_url)\n",
    "get_data_rain.raise_for_status()\n",
    "analysis_rain = get_data_rain.json()\n",
    "items_rain = analysis_rain[\"items\"]\n",
    "rain_data = []\n",
    "for x in items_rain:\n",
    "    rain_data.append(x)\n",
    "rain_df = pd.DataFrame(rain_data)\n",
    "rain_df['measure']=rain_df['measure'].str.rsplit('/', 1).str[1]\n",
    "rain_df['dt'] =  pd.to_datetime(rain_df['dateTime'])\n",
    "rain_df= rain_df.drop(['@id','dateTime'], axis=1)\n",
    "rain_df.head()"
   ]
  },
  {
   "cell_type": "code",
   "execution_count": null,
   "metadata": {},
   "outputs": [],
   "source": [
    "sns.lineplot(data=rain_df,x='dt',y='value',hue='measure')\n",
    "plt.xticks(rotation=15)\n",
    "plt.legend(loc='center right',bbox_to_anchor=(2, 0.95), ncol=1)\n",
    "plt.show()"
   ]
  },
  {
   "cell_type": "code",
   "execution_count": null,
   "metadata": {},
   "outputs": [],
   "source": []
  }
 ],
 "metadata": {
  "kernelspec": {
   "display_name": "Python 3",
   "language": "python",
   "name": "python3"
  },
  "language_info": {
   "codemirror_mode": {
    "name": "ipython",
    "version": 3
   },
   "file_extension": ".py",
   "mimetype": "text/x-python",
   "name": "python",
   "nbconvert_exporter": "python",
   "pygments_lexer": "ipython3",
   "version": "3.7.7"
  }
 },
 "nbformat": 4,
 "nbformat_minor": 4
}
